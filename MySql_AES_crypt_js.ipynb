{
 "cells": [
  {
   "cell_type": "markdown",
   "metadata": {},
   "source": [
    "# NodeJS MySQL AES_ENCRYPT / AES_DECRYPT\n",
    "#### A NodeJS implementation of MySQL's AES_ENCRYPT/AES_DECRYPT functions with built-in MD5 key hashing\n",
    "\n",
    "### Background\n",
    "\n",
    "The MyCipher class below reproduces the functionality of the SQL AES encryption functions and includes built-in MD5 key hashing in order to mirror the recommended usage, as in the following SQL queries:\n",
    "```sql\n",
    "SELECT HEX( AES_ENCRYPT('secret value', MD5('encryption key') ) );\n",
    "SELECT AES_DECRYPT(<ciphertext>, MD5('encryption key') );\n",
    "```\n",
    "Equuivalent functions using MyCipher:\n",
    "```javascript\n",
    "var cipher = new MyCipher('encryption key');\n",
    "cipher.encrypt('secret value');\n",
    "cipher.decrypt(<ciphertext>);\n",
    "```\n",
    "\n",
    "##### Note\n",
    "Since ECB mode doesn't use IVs, it is important to salt the keys passed to MyCipher's constructor using a salt that will be know during lookup. e.g. A user ID could be prepended to the encryption key to ensure that each key is unique."
   ]
  },
  {
   "cell_type": "code",
   "execution_count": 1,
   "metadata": {
    "collapsed": false
   },
   "outputs": [
    {
     "name": "stdout",
     "output_type": "stream",
     "text": [
      "\n"
     ]
    }
   ],
   "source": [
    "var crypto = require('crypto');\n",
    "var md5 = require('md5');\n",
    "\n",
    "var MyCipher = function(key){\n",
    "    this.key = this.setKey(key);\n",
    "    this.cipher = crypto.createCipheriv('aes-128-ecb', this.key, '');\n",
    "}\n",
    "MyCipher.prototype._pad = function(s){\n",
    "    var pad_value = 16 - (s.length % 16);\n",
    "    return s + String.fromCharCode(pad_value).repeat(pad_value);\n",
    "}\n",
    "MyCipher.prototype.setKey = function(key){\n",
    "    key = md5(key);\n",
    "    var final_key = new Uint8Array(16); //Start with 16-byte block of null characters.\n",
    "    for (var i=0; i<key.length; i++){   //Iterate over all characters in our key.\n",
    "        final_key[i%16] = final_key[i%16] ^ key.charCodeAt(i); // XOR the characters together.\n",
    "    }\n",
    "    // Convert to byte string.\n",
    "    this.key = String.fromCharCode.apply(null, new Uint8Array(final_key));\n",
    "    return this.key;\n",
    "}\n",
    "MyCipher.prototype.getKey = function(){\n",
    "    return new Buffer(this.key).toString('hex');\n",
    "};\n",
    "MyCipher.prototype.encrypt = function(plaintext){\n",
    "    return this.cipher.update(this._pad(plaintext),'utf8','hex');\n",
    "};\n",
    "MyCipher.prototype.decrypt = function(ciphertext){\n",
    "    var cipher = crypto.createDecipheriv('aes-128-ecb', this.key, \"\");\n",
    "    return cipher.update(ciphertext, 'hex', 'utf8') + cipher.final('utf8');\n",
    "};\n",
    "console.log();"
   ]
  },
  {
   "cell_type": "markdown",
   "metadata": {},
   "source": [
    "### Example usage"
   ]
  },
  {
   "cell_type": "code",
   "execution_count": 2,
   "metadata": {
    "collapsed": false
   },
   "outputs": [
    {
     "name": "stdout",
     "output_type": "stream",
     "text": [
      "encryption key: 5d5b0005030f0108500a01540c570705\n",
      "encrypted: 961d72fbde896818a97d6810c449fb90\n",
      "decrypted: foo\n"
     ]
    }
   ],
   "source": [
    "var c = new MyCipher('D476D59919BC');\n",
    "var ciphertext = c.encrypt('foo');\n",
    "var buf = new Buffer(ciphertext,'hex');\n",
    "\n",
    "console.log(\"encryption key:\",c.getKey());\n",
    "console.log(\"encrypted:\",ciphertext);\n",
    "console.log(\"decrypted:\",c.decrypt(ciphertext));"
   ]
  },
  {
   "cell_type": "markdown",
   "metadata": {},
   "source": [
    "### Verify with MySQL\n",
    "```mysql\n",
    "select hex(aes_encrypt('foo', MD5('D476D59919BC')));\n",
    "```\n",
    "```mysql\n",
    "select aes_decrypt(X'961D72FBDE896818A97D6810C449FB90',MD5('D476D59919BC'));\n",
    "```\n"
   ]
  },
  {
   "cell_type": "code",
   "execution_count": 3,
   "metadata": {
    "collapsed": false
   },
   "outputs": [
    {
     "name": "stdout",
     "output_type": "stream",
     "text": [
      "\n",
      "Got: \"961D72FBDE896818A97D6810C449FB90\", Expected: \"961d72fbde896818a97d6810c449fb90\"\n",
      "Got: \"foo\", Expected: \"foo\"\n"
     ]
    }
   ],
   "source": [
    "var mysql = require('mysql');\n",
    "\n",
    "// no need to configure host since we don't actually query any tables\n",
    "var connection = mysql.createConnection({}); \n",
    "connection.connect();\n",
    "\n",
    "var myCiphertext = new MyCipher('D476D59919BC').encrypt('foo');\n",
    "var encQuery = \"select hex(aes_encrypt('foo', MD5('D476D59919BC'))) as ciphertext;\";\n",
    "connection.query(encQuery, function(err, rows, fields) {\n",
    "    if (err) throw err;\n",
    "    console.log('Got: \"'+rows[0].ciphertext+'\", Expected: \"'+myCiphertext+'\"');\n",
    "    // now check the other direction\n",
    "    var decQuery = \"select aes_decrypt(X'\"+rows[0].ciphertext+\"',MD5('D476D59919BC')) as res;\";\n",
    "    connection.query(decQuery, function(err, rows, fields) {\n",
    "        if (err) throw err;\n",
    "        console.log('Got: \"'+rows[0].res+'\", Expected: \"foo\"');\n",
    "        connection.end();\n",
    "    });\n",
    "});\n",
    "console.log();"
   ]
  },
  {
   "cell_type": "code",
   "execution_count": null,
   "metadata": {
    "collapsed": true
   },
   "outputs": [],
   "source": []
  }
 ],
 "metadata": {
  "kernelspec": {
   "display_name": "NodeJS",
   "language": "javascript",
   "name": "nodejs"
  },
  "language_info": {
   "codemirror_mode": "javascript",
   "file_extension": "js",
   "mimetype": "text/javascript",
   "name": "nodejs",
   "pygments_lexer": "javascript",
   "version": "0.10"
  }
 },
 "nbformat": 4,
 "nbformat_minor": 0
}
