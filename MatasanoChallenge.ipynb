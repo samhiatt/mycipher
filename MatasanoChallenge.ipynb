{
 "cells": [
  {
   "cell_type": "code",
   "execution_count": 1,
   "metadata": {
    "collapsed": false
   },
   "outputs": [],
   "source": [
    "# from base64 import b64encode, b64decode\n",
    "# from binascii import hexlify, unhexlify, a2b_base64, b2a_base64, a2b_hex, b2a_hex"
   ]
  },
  {
   "cell_type": "markdown",
   "metadata": {},
   "source": [
    "# The Matasano Crypto Challenges\n",
    "http://cryptopals.com/\n",
    "\n",
    "##1.1 Convert hex to base64\n",
    "The string:  \n",
    ">49276d206b696c6c696e6720796f757220627261696e206c696b65206120706f69736f6e6f7573206d757368726f6f6d\n",
    "\n",
    "Should produce:  \n",
    ">SSdtIGtpbGxpbmcgeW91ciBicmFpbiBsaWtlIGEgcG9pc29ub3VzIG11c2hyb29t\n",
    "\n",
    "So go ahead and make that happen. You'll need to use this code for the rest of the exercises.  \n",
    "\n",
    "####Cryptopals Rule\n",
    "    Always operate on raw bytes, never on encoded strings. Only use hex and base64 for pretty-printing."
   ]
  },
  {
   "cell_type": "code",
   "execution_count": 2,
   "metadata": {
    "collapsed": false
   },
   "outputs": [
    {
     "name": "stdout",
     "output_type": "stream",
     "text": [
      "b64 encoded: SSdtIGtpbGxpbmcgeW91ciBicmFpbiBsaWtlIGEgcG9pc29ub3VzIG11c2hyb29t\n",
      "Expected:    SSdtIGtpbGxpbmcgeW91ciBicmFpbiBsaWtlIGEgcG9pc29ub3VzIG11c2hyb29t\n",
      "b64 encoding passed: True\n",
      "\n",
      "hex encoded: 49276d206b696c6c696e6720796f757220627261696e206c696b65206120706f69736f6e6f7573206d757368726f6f6d\n",
      "Expected:    49276d206b696c6c696e6720796f757220627261696e206c696b65206120706f69736f6e6f7573206d757368726f6f6d\n",
      "hex encoding passed: True\n"
     ]
    }
   ],
   "source": [
    "b64Lookup = {\n",
    "    'A':0,'B':1,'C':2,'D':3,'E':4,'F':5,'G':6,'H':7,'I':8,'J':9,'K':10,'L':11,'M':12,'N':13,'O':14,'P':15,'Q':16,\n",
    "    'R':17,'S':18,'T':19,'U':20,'V':21,'W':22,'X':23,'Y':24,'Z':25,'a':26,'b':27,'c':28,'d':29,'e':30,'f':31,'g':32,\n",
    "    'h':33,'i':34,'j':35,'k':36,'l':37,'m':38,'n':39,'o':40,'p':41,'q':42,'r':43,'s':44,'t':45,'u':46,'v':47,'w':48,\n",
    "    'x':49,'y':50,'z':51,'0':52,'1':53,'2':54,'3':55,'4':56,'5':57,'6':58,'7':59,'8':60,'9':61,'+':62,'/':63,'=':64\n",
    "}\n",
    "def toBase64(byteArr):\n",
    "    # see https://www.nczonline.net/blog/2009/12/08/computer-science-in-javascript-base64-encoding/\n",
    "    # and https://en.wikipedia.org/wiki/Base64\n",
    "    b64Dict = \"ABCDEFGHIJKLMNOPQRSTUVWXYZabcdefghijklmnopqrstuvwxyz0123456789+/=\"\n",
    "    res = ''\n",
    "    for i in range(0,len(byteArr),3):\n",
    "        b = (byteArr[i] & 0xfc)>>2                  # ******** & 11111100\n",
    "        res += b64Dict[b]\n",
    "        b = (byteArr[i] & 0x03)<<4                  # ******** & 00000011\n",
    "        if (i+1 < len(byteArr)):\n",
    "            b |= (byteArr[i+1] & 0xf0)>>4           # ******** & 11110000\n",
    "            res += b64Dict[b]\n",
    "            b = (byteArr[i+1] & 0x0f)<<2            # ******** & 00001111\n",
    "            if i+1 < len(byteArr):\n",
    "                b |= (byteArr[i+2] & 0xc0)>>6       # ******** & 11000000\n",
    "                res += b64Dict[b]\n",
    "                b = byteArr[i+2] & 0x3f             # ******** & 00111111\n",
    "                res += b64Dict[b]\n",
    "            else:\n",
    "                res += b64Dict[b]\n",
    "                res += '='\n",
    "        else:\n",
    "            res += b64Dict[(byteArr[i] & 0x03)<<4]    # ******** & 00000011\n",
    "            res += '=='\n",
    "    return res\n",
    "\n",
    "def fromBase64(b64Str): # returns byte array\n",
    "    # see: https://en.wikipedia.org/wiki/Base64\n",
    "    if len(b64Str) % 4 != 0: raise Exception(\"Invalid base64 input\")\n",
    "    res = []\n",
    "    b=[0,0,0,0]\n",
    "    def toByte(val):\n",
    "        if val > 255:\n",
    "            val -= 256\n",
    "            return toByte(val)\n",
    "        else: return val\n",
    "    for i in range(0,len(b64Str),4):\n",
    "        for j in range(4):\n",
    "            b[j]=b64Lookup[b64Str[i+j]]\n",
    "        res.append(toByte((b[0]<<2) | (b[1]>>4)))\n",
    "        if (b[2] < 64):\n",
    "            res.append(toByte((b[1]<<4) | (b[2]>>2)))\n",
    "            if b[3] < 64:\n",
    "                res.append(toByte((b[2]<<6) | b[3]))\n",
    "    return bytearray(res)\n",
    "\n",
    "def fromHex(hexStr):\n",
    "    if len(hexStr)%2 != 0: raise Exception(\"Invalid hex input. Expected even-number length.\")\n",
    "    hexLookup = {'0':0,'1':1,'2':2,'3':3,'4':4,'5':5,'6':6,'7':7,'8':8,'9':9,\n",
    "               'a':10,'A':10,'b':11,'B':11,'c':12,'C':12,'d':13,'D':13,'e':14,'E':14,'f':15,'F':15}\n",
    "    byteArr = []\n",
    "    for i in range(0,len(hexStr),2):\n",
    "        byteArr.append(16*hexLookup[hexStr[i]]+hexLookup[hexStr[i+1]])\n",
    "    return bytearray(byteArr)\n",
    "\n",
    "def toHex(byteArr):\n",
    "    hexDict = '0123456789abcdef'\n",
    "    res = ''\n",
    "    for b in byteArr:\n",
    "        res += hexDict[b / 16] + hexDict[b % 16]\n",
    "    return res\n",
    "\n",
    "hexStr = '49276d206b696c6c696e6720796f757220627261696e206c696b65206120706f69736f6e6f7573206d757368726f6f6d'\n",
    "expected = 'SSdtIGtpbGxpbmcgeW91ciBicmFpbiBsaWtlIGEgcG9pc29ub3VzIG11c2hyb29t'\n",
    "\n",
    "b64Str = toBase64(fromHex(hexStr))\n",
    "\n",
    "print \"b64 encoded: \"+b64Str\n",
    "\n",
    "print \"Expected:    \"+expected\n",
    "print \"b64 encoding passed: %s\\n\"%(b64Str==expected)\n",
    "\n",
    "# test toHex function\n",
    "decodedBytes = fromBase64(b64Str)\n",
    "reencodedHex = toHex(decodedBytes)\n",
    "print \"hex encoded: \"+reencodedHex\n",
    "print \"Expected:    \"+hexStr\n",
    "print \"hex encoding passed: %s\" %(reencodedHex==hexStr)"
   ]
  },
  {
   "cell_type": "markdown",
   "metadata": {},
   "source": [
    "##1.2 Fixed XOR\n",
    "Write a function that takes two equal-length buffers and produces their XOR combination.\n",
    "\n",
    "If your function works properly, then when you feed it the string:\n",
    "\n",
    ">1c0111001f010100061a024b53535009181c\n",
    "\n",
    "... after hex decoding, and when XOR'd against:\n",
    "\n",
    ">686974207468652062756c6c277320657965\n",
    "\n",
    "... should produce:\n",
    "\n",
    ">746865206b696420646f6e277420706c6179\n"
   ]
  },
  {
   "cell_type": "code",
   "execution_count": 3,
   "metadata": {
    "collapsed": false
   },
   "outputs": [
    {
     "name": "stdout",
     "output_type": "stream",
     "text": [
      "XORed:    746865206b696420646f6e277420706c6179\n",
      "Expected: 746865206b696420646f6e277420706c6179\n",
      "Passed: True\n"
     ]
    }
   ],
   "source": [
    "def xorCipher(byteArr1, byteArr2): # returns bytearray\n",
    "    byteArr2 = byteArr2*((len(byteArr1)/len(byteArr2))+1)\n",
    "    res = []\n",
    "    for i in range(len(byteArr1)):\n",
    "        res.append(byteArr1[i] ^ byteArr2[i])\n",
    "    return bytearray(res)\n",
    "\n",
    "s1='1c0111001f010100061a024b53535009181c'\n",
    "s2='686974207468652062756c6c277320657965'\n",
    "expected='746865206b696420646f6e277420706c6179'\n",
    "\n",
    "xored = xorCipher(fromHex(s1),fromHex(s2))\n",
    "xoredHex = toHex(xored)\n",
    "print \"XORed:    \"+xoredHex\n",
    "print \"Expected: \"+expected\n",
    "print \"Passed: %s\" % (xoredHex == expected)"
   ]
  },
  {
   "cell_type": "markdown",
   "metadata": {},
   "source": [
    "##1.3 Single-byte XOR cipher\n",
    "The hex encoded string:\n",
    ">1b37373331363f78151b7f2b783431333d78397828372d363c78373e783a393b3736\n",
    "\n",
    "... has been XOR'd against a single character. Find the key, decrypt the message.\n",
    "\n",
    "You can do this by hand. But don't: write code to do it for you.\n",
    "\n",
    "How? Devise some method for \"scoring\" a piece of English plaintext. Character frequency is a good metric. Evaluate each output and choose the one with the best score.\n",
    "\n",
    "####Achievement Unlocked\n",
    "    You now have our permission to make \"ETAOIN SHRDLU\" jokes on Twitter."
   ]
  },
  {
   "cell_type": "code",
   "execution_count": 4,
   "metadata": {
    "collapsed": false
   },
   "outputs": [
    {
     "name": "stdout",
     "output_type": "stream",
     "text": [
      "Key byte value: 88, ASCII char: X, score: 169.35\n",
      "Decoded: Cooking MC's like a pound of bacon\n"
     ]
    }
   ],
   "source": [
    "def calcScore(byteArr):\n",
    "    # English letter frequency table from http://www.math.cornell.edu/~mec/2003-2004/cryptography/subs/frequencies.html\n",
    "    englishLetterFrequency={\n",
    "        'E':12.02, 'T':9.10, 'A':8.12, 'O':7.68, 'I':7.31, 'N':6.95, 'S':6.28, 'R':6.02, 'H':5.92, \n",
    "        'D':4.32, 'L':3.98, 'U':2.88, 'C':2.71, 'M':2.61, 'F':2.30, 'Y':2.11, 'W':2.09, 'G':2.03, \n",
    "        'P':1.82, 'B':1.49, 'V':1.11, 'K':0.69, 'X':0.17, 'Q':0.11, 'J':0.10, 'Z':0.07,\n",
    "        ' ':5\n",
    "    }\n",
    "    score = 0\n",
    "    for b in byteArr:\n",
    "        letter = chr(b).upper()\n",
    "        if letter in englishLetterFrequency:\n",
    "            score += englishLetterFrequency[letter]\n",
    "    return score\n",
    "\n",
    "def crackSingleCharXorCipher(byteArr):\n",
    "    scores = []\n",
    "    for i in range(256):\n",
    "        res = xorCipher(byteArr, [i])\n",
    "        scores.append((i,calcScore(res),bytearray(res)))\n",
    "\n",
    "    scores = sorted(scores, key=lambda x:x[1], reverse=True)\n",
    "    return scores[0]\n",
    "\n",
    "hexStr = '1b37373331363f78151b7f2b783431333d78397828372d363c78373e783a393b3736'\n",
    "res = crackSingleCharXorCipher(fromHex(hexStr))\n",
    "\n",
    "print \"Key byte value: %i, ASCII char: %s, score: %s\"%(res[0], bytearray([res[0]]), res[1])\n",
    "print \"Decoded: \"+res[2]"
   ]
  },
  {
   "cell_type": "markdown",
   "metadata": {},
   "source": [
    "##1.4 Detect single-character XOR\n",
    "One of the 60-character strings in [this file](/files/challenge4.txt) has been encrypted by single-character XOR.\n",
    "\n",
    "Find it.\n",
    "\n",
    "(Your code from #3 should help.)"
   ]
  },
  {
   "cell_type": "code",
   "execution_count": 5,
   "metadata": {
    "collapsed": false
   },
   "outputs": [
    {
     "name": "stdout",
     "output_type": "stream",
     "text": [
      "Key byte value: 53, ASCII char: 5, score: 165.46\n",
      "Encrypted line number: 170\n",
      "Decoded: Now that the party is jumping\n",
      "\n"
     ]
    }
   ],
   "source": [
    "with open('challenge4.txt') as file:\n",
    "    txt = file.readlines()\n",
    "    \n",
    "res=[]\n",
    "for lineNum, line in enumerate(txt):\n",
    "    ba = fromHex(line.strip())\n",
    "    res.append(tuple([lineNum])+crackSingleCharXorCipher(ba))\n",
    "res = sorted(res,reverse=True,key=lambda x:x[2])[0]\n",
    "\n",
    "print \"Key byte value: %i, ASCII char: %s, score: %s\"%(res[1], bytearray([res[1]]), res[2])\n",
    "print \"Encrypted line number: %i\"%res[0]\n",
    "print \"Decoded: \"+res[3]"
   ]
  },
  {
   "cell_type": "markdown",
   "metadata": {},
   "source": [
    "##1.5 Implement repeating-key XOR\n",
    "Here is the opening stanza of an important work of the English language:\n",
    "\n",
    "    Burning 'em, if you ain't quick and nimble\n",
    "    I go crazy when I hear a cymbal\n",
    "\n",
    "Encrypt it, under the key \"ICE\", using repeating-key XOR.\n",
    "\n",
    "In repeating-key XOR, you'll sequentially apply each byte of the key; the first byte of plaintext will be XOR'd against I, the next C, the next E, then I again for the 4th byte, and so on.\n",
    "\n",
    "It should come out to:\n",
    "\n",
    "    0b3637272a2b2e63622c2e69692a23693a2a3c6324202d623d63343c2a26226324272765272\n",
    "    a282b2f20430a652e2c652a3124333a653e2b2027630c692b20283165286326302e27282f\n",
    "Encrypt a bunch of stuff using your repeating-key XOR function. Encrypt your mail. Encrypt your password file. Your .sig file. Get a feel for it. I promise, we aren't wasting your time with this."
   ]
  },
  {
   "cell_type": "code",
   "execution_count": 6,
   "metadata": {
    "collapsed": false
   },
   "outputs": [
    {
     "name": "stdout",
     "output_type": "stream",
     "text": [
      "0b3637272a2b2e63622c2e69692a23693a2a3c6324202d623d63343c2a26226324272765272a282b2f20430a652e2c652a3124333a653e2b2027630c692b20283165286326302e27282f\n",
      "Passed: True\n"
     ]
    }
   ],
   "source": [
    "plaintext = \"Burning 'em, if you ain't quick and nimble\\n\"+\\\n",
    "            \"I go crazy when I hear a cymbal\"\n",
    "\n",
    "expectedCipher = \"0b3637272a2b2e63622c2e69692a23693a2a3c6324202d623d63343c2a26226324272765272\"+\\\n",
    "                \"a282b2f20430a652e2c652a3124333a653e2b2027630c692b20283165286326302e27282f\"\n",
    "    \n",
    "    \n",
    "encryptedByteArr = xorCipher(bytearray(plaintext),bytearray(\"ICE\"))\n",
    "print toHex(encryptedByteArr)\n",
    "print \"Passed: %s\"%(toHex(encryptedByteArr)==expectedCipher)"
   ]
  },
  {
   "cell_type": "markdown",
   "metadata": {},
   "source": [
    "##1.6 Break repeating-key XOR\n",
    "#####It is officially on, now.\n",
    "This challenge isn't conceptually hard, but it involves actual error-prone coding. The other challenges in this set are there to bring you up to speed. This one is there to qualify you. If you can do this one, you're probably just fine up to Set 6.\n",
    "\n",
    "There's a file [here](/files/challenge6.txt). \n",
    "\n",
    "It's been base64'd after being encrypted with repeating-key XOR.\n",
    "\n",
    "Decrypt it."
   ]
  },
  {
   "cell_type": "code",
   "execution_count": 7,
   "metadata": {
    "collapsed": false,
    "scrolled": true
   },
   "outputs": [
    {
     "name": "stdout",
     "output_type": "stream",
     "text": [
      "HUIfTQsPAh9PE048GmllH0kcDk4TAQsHThsBFkU2AB4BSWQgVB0dQzNTTmVSBgBHVBwNRU0HBAxTEjwMHghJGgkRTxRMIRpHKwAFHUdZEQQJAGQmB1MANxYGDBoXQR0BUlQwXwAgEwoFR08SSAhFTmU+Fgk4RQYFCBpGB08fWXh+amI2DB0PQQ1IBlUaGwAdQnQEHgFJGgkRAlJ6f0kASDoAGhNJGk9FSA8dDVMEOgFSGQELQRMGAEwxX1NiFQYHCQdUCxdBFBZJeTM1CxsBBQ9GB08dTnhOSCdSBAcMRVhICEEATyBUCHQLHRlJAgAOFlwAUjBpZR9JAgJUAAELB04CEFMBJhAVTQIHAh9PG054MGk2UgoBCVQGBwlTTgIQUwg7EAYFSQ8PEE87ADpfRyscSWQzT1QCEFMaTwUWEXQMBk0PAg4DQ1JMPU4ALwtJDQhOFw0VVB1PDhxFXigLTRkBEgcKVVN4Tk9iBgELR1MdDAAAFwoF\n",
      "...\n",
      "\u001d",
      "B\u001fM\u000b",
      "\u000f\u0002\u001fO\u0013N<\u001aie\u001fI\u001c",
      "\u000eN\u0013\u0001\u000b",
      "\u0007N\u001b\u0001\u0016E6\u0000\u001e",
      "\u0001Id T\u001d",
      "\u001d",
      "C3SNeR\u0006\u0000GT\u001c",
      "\r",
      "EM\u0007\u0004\f",
      "S\u0012<\f",
      "\u001e",
      "\bI\u001a\t\u0011O\u0014L!\u001aG+\u0000\u0005\u001d",
      "GY\u0011\u0004\t\u0000d&\u0007S\u00007\u0016\u0006\f",
      "\u001a\u0017A\u001d",
      "\u0001RT0_\u0000 \u0013\n",
      "\u0005GO\u0012H\bENe>\u0016\t8E\u0006\u0005\b\u001aF\u0007O\u001fYx~jb6\f",
      "\u001d",
      "\u000fA\r",
      "H\u0006U\u001a\u001b\u0000\u001d",
      "Bt\u0004\u001e",
      "\u0001I\u001a\t\u0011\u0002RzI\u0000H:\u0000\u001a\u0013I\u001aOEH\u000f\u001d",
      "\r",
      "S\u0004:\u0001R\u0019\u0001\u000b",
      "A\u0013\u0006\u0000L1_Sb\u0015\u0006\u0007\t\u0007T\u000b",
      "\u0017A\u0014\u0016Iy35\u000b",
      "\u001b\u0001\u0005\u000fF\u0007O\u001d",
      "NxNH'R\u0004\u0007\f",
      "EXH\bA\u0000O T\bt\u000b",
      "\u001d",
      "\u0019I\u0002\u0000\u000e\u0016\\\u0000R0ie\u001fI\u0002\u0002T\u0000\u0001\u000b",
      "\u0007N\u0002\u0010S\u0001&\u0010\u0015M\u0002\u0007\u0002\u001fO\u001bNx0i6R\n",
      "\u0001\tT\u0006\u0007\tSN\u0002\u0010S\b;\u0010\u0006\u0005I\u000f\u000f\u0010O;\u0000:_G+\u001c",
      "Id3OT\u0002\u0010S\u001aO\u0005\u0016\u0011t\f",
      "\u0006M\u000f\u0002\u000e\u0003CRL=N\u0000/\u000b",
      "I\r",
      "\bN\u0017\r",
      "\u0015T\u001d",
      "O\u000e\u001c",
      "E^(\u000b",
      "M\u0019\u0001\u0012\u0007\n",
      "USxNOb\u0006\u0001\u000b",
      "GS\u001d",
      "\f",
      "\u0000\u0000\u0017\n",
      "\u0005\u001f\f",
      ":B^M.\u0001A\"\u000e\u001c",
      "I4VAb5\u0006OG*~;\bO\u0001\u001b\u0001SB7\u0004\u0007\u001e",
      "\f",
      "N\u0015\u001c",
      "\u000e\u0006\u0007+\u001aT*\u0017I\u0019\u0006YT!EW\u0007\u0003\u0005S\u00071Ex,\u0007\n",
      "A\u001d",
      "\tRY7O\u0000&\u001d",
      "\u0007I\u0013\u0000\u0013\u0001\u0013EN\u000eI\u0017\u00049\u000b",
      "^M\u001d",
      "\u0006\u0004\u001aOxw0C\u0000;\u001d",
      "\u001c",
      "N\u0014T\u0015\u001a\f",
      "NIO\b\u0007E9\u0000Rg:\u0001A\n",
      "...\n"
     ]
    }
   ],
   "source": [
    "with open(\"challenge6.txt\") as file:\n",
    "    txt = ''.join([line.strip() for line in file.readlines()])\n",
    "print txt[0:500] + '\\n...'\n",
    "cipherText = fromBase64(txt)\n",
    "print cipherText[0:500] + \"\\n...\""
   ]
  },
  {
   "cell_type": "markdown",
   "metadata": {},
   "source": [
    "It's been base64'd after being encrypted with repeating-key XOR.\n",
    "\n",
    "Decrypt it.\n",
    "\n",
    "### How to decrpyt\n",
    "\n",
    "    1 -  Let KEYSIZE be the guessed length of the key; try values from 2 to (say) 40.\n",
    "\n",
    "    2 -  Write a function to compute the edit distance/Hamming distance between two strings. *The Hamming distance is just the number of differing bits.* The distance between: \"this is a test\" and \"wokka wokka!!!\" is **37**. Make sure your code agrees before you proceed.\n",
    "    3 - For each KEYSIZE, take the first KEYSIZE worth of bytes, and the second KEYSIZE worth of bytes, and find the edit distance between them. Normalize this result by dividing by KEYSIZE.\n",
    "\n",
    "    4 - The KEYSIZE with the smallest normalized edit distance is probably the key. You could proceed perhaps with the smallest 2-3 KEYSIZE values. Or take 4 KEYSIZE blocks instead of 2 and average the distances.\n",
    "\n",
    "    5 - Now that you probably know the KEYSIZE: break the ciphertext into blocks of KEYSIZE length.\n",
    "\n",
    "    6 - Now transpose the blocks: make a block that is the first byte of every block, and a block that is the second byte of every block, and so on.\n",
    "\n",
    "    7 - Solve each block as if it was single-character XOR. You already have code to do this.\n",
    "\n",
    "    8 - For each block, the single-byte XOR key that produces the best looking histogram is the repeating-key XOR key byte for that block. Put them together and you have the key.\n",
    "\n",
    "This code is going to turn out to be surprisingly useful later on. Breaking repeating-key XOR (\"Vigenere\") statistically is obviously an academic exercise, a \"Crypto 101\" thing. But more people \"know how\" to break it than can actually break it, and a similar technique breaks something much more important."
   ]
  },
  {
   "cell_type": "code",
   "execution_count": 8,
   "metadata": {
    "collapsed": false
   },
   "outputs": [
    {
     "name": "stdout",
     "output_type": "stream",
     "text": [
      "37\n"
     ]
    }
   ],
   "source": [
    "def bitDiff(b1,b2):\n",
    "    res=0\n",
    "    for i in range(8):\n",
    "        res += abs( ( b1 >> i & 1 ) - ( b2 >> i & 1 ) )\n",
    "    return res\n",
    "\n",
    "def hammingDistance(byteArr1,byteArr2):\n",
    "    if (len(byteArr1)>len(byteArr2)): # byteArr1 should be the shortest string\n",
    "        tmp = byteArr1\n",
    "        byteArr1 = byteArr2\n",
    "        byteArr2 = tmp\n",
    "    res=abs(len(byteArr1)-len(byteArr2))*8 # start with diff = 8 X difference in length\n",
    "    for i,b in enumerate(byteArr1):\n",
    "        res+=bitDiff(b,byteArr2[i])\n",
    "    return res\n",
    "    \n",
    "print hammingDistance(bytearray(\"this is a test\"), bytearray(\"wokka wokka!!!\"))"
   ]
  },
  {
   "cell_type": "code",
   "execution_count": 9,
   "metadata": {
    "collapsed": false,
    "scrolled": true
   },
   "outputs": [
    {
     "name": "stdout",
     "output_type": "stream",
     "text": [
      "Trying with key size 29\n",
      "Trying with key size 5\n",
      "Trying with key size 2\n",
      "Trying with key size 3\n",
      "Trying with key size 6\n",
      "Encryption key: \"Terminator X: Bring the noise\"\n",
      "Decoded:\n",
      "I'm back and I'm ringin' the bell \n",
      "A rockin' on the mike while the fly girls yell \n",
      "In ecstasy in the back of me \n",
      "Well that's my DJ Deshay cuttin' all them Z's \n",
      "Hittin' hard and the girlies goin' crazy\n",
      "...\n"
     ]
    }
   ],
   "source": [
    "dists=[]\n",
    "for keysize in range(2,51):\n",
    "    block0 = cipherText[0:keysize]\n",
    "    block1 = cipherText[keysize:keysize*2]\n",
    "    block2 = cipherText[keysize*2:keysize*3]\n",
    "    block3 = cipherText[keysize*3:keysize*4]\n",
    "    hammingDist = hammingDistance(block0, block1)\n",
    "    hammingDist += hammingDistance(block0, block2)\n",
    "    hammingDist += hammingDistance(block0, block3)\n",
    "    hammingDist += hammingDistance(block1, block2)\n",
    "    hammingDist += hammingDistance(block1, block3)\n",
    "    hammingDist += hammingDistance(block2, block3)\n",
    "    hammingDist /= 6\n",
    "    dists.append((keysize, hammingDist/float(keysize)))\n",
    "dists = sorted(dists,key=lambda x:x[1])\n",
    "\n",
    "res=[]\n",
    "for guessedKeysize in [d[0] for d in dists[0:5]]:\n",
    "    print \"Trying with key size %s\"%guessedKeysize\n",
    "    j=0\n",
    "    blocks=[]\n",
    "    while j<len(cipherText):\n",
    "        end = j+guessedKeysize\n",
    "        if end > len(cipherText): \n",
    "            end = len(cipherText)\n",
    "        blocks.append(cipherText[j:end])\n",
    "        j+=guessedKeysize\n",
    "    transposed=[]\n",
    "    for i in range(guessedKeysize):\n",
    "        transposedBlock = []\n",
    "        for block in blocks:\n",
    "            if i<len(block): transposedBlock.append(block[i])\n",
    "            else: transposedBlock.append(0)\n",
    "        transposed.append(transposedBlock)\n",
    "    key=[]\n",
    "    for blockNum, block in enumerate(transposed):\n",
    "        key.append(crackSingleCharXorCipher(block)[0])\n",
    "    decoded = xorCipher(cipherText,key)\n",
    "    res.append((calcScore(decoded),bytearray(key),decoded))\n",
    "res = sorted(res,reverse=True)\n",
    "\n",
    "print 'Encryption key: \"%s\"\\nDecoded:\\n%s'%(res[0][1],res[0][2][0:200]+\"\\n...\")"
   ]
  },
  {
   "cell_type": "markdown",
   "metadata": {
    "collapsed": true
   },
   "source": [
    "##1.7 AES in ECB mode\n",
    "The Base64-encoded content in this file has been encrypted via AES-128 in ECB mode under the key\n",
    "\n",
    "\"YELLOW SUBMARINE\".\n",
    "(case-sensitive, without the quotes; exactly 16 characters; I like \"YELLOW SUBMARINE\" because it's exactly 16 bytes long, and now you do too).\n",
    "\n",
    "Decrypt it. You know the key, after all.\n",
    "\n",
    "Easiest way: use OpenSSL::Cipher and give it AES-128-ECB as the cipher.\n",
    "\n",
    "Do this with code.\n",
    "You can obviously decrypt this using the OpenSSL command-line tool, but we're having you get ECB working in code for a reason. You'll need it a lot later on, and not just for attacking ECB."
   ]
  },
  {
   "cell_type": "code",
   "execution_count": 10,
   "metadata": {
    "collapsed": false
   },
   "outputs": [
    {
     "name": "stdout",
     "output_type": "stream",
     "text": [
      "CRIwqt4+szDbqkNY+I0qbDe3LQz0wiw0SuxBQtAM5TDdMbjCMD/venUDW9BLPEXODbk6a48oMbAY6DDZsuLbc0uR9cp9hQ0QQGATyyCESq2NSsvhx5zKlLtzdsnfK5ED5srKjK7Fz4Q38/ttd+stL/9WnDzlJvAo7WBsjI5YJc2gmAYayNfmCW2lhZE/ZLG0CBD2aPw0W417QYb4cAIOW92jYRiJ4PTsBBHDe8o4JwqaUac6rqdi833kbyAOV/Y2RMbN0oDb9Rq8uRHvbrqQJaJieaswEtMkgUt3P5Ttgeh7J+hE6TR0uHot8WzHyAKNbUWHoi/5zcRCUipvVOYLoBZXlNu4qnwoCZRSBgvCwTdz3Cbsp/P2wXB8tiz6l9rL2bLhBt13Qxyhhu0H0+JKj6soSeX5ZD1Rpilp9ncR1tHW8+uurQKyXN4xKeGjaKLOejr2xDIw+aWF7GszU4qJhXBnXTIUUNUfRlwEpS6FZcsMzemQF30e\n",
      "...\n"
     ]
    }
   ],
   "source": [
    "from Crypto.Cipher import AES\n",
    "cipher = AES.new(\"YELLOW SUBMARINE\", AES.MODE_ECB)\n",
    "with open(\"challenge7.txt\") as file:\n",
    "    txt = ''.join([l.strip() for l in file.readlines()])\n",
    "print txt[0:500] + \"\\n...\""
   ]
  },
  {
   "cell_type": "code",
   "execution_count": 11,
   "metadata": {
    "collapsed": false
   },
   "outputs": [
    {
     "name": "stdout",
     "output_type": "stream",
     "text": [
      "\t\u00120��>�0۪CX��*l7�-\f",
      "��,4J�AB�\f",
      "�0�1��0?�zu\u0003[�K<E�\r",
      "�:k�(1�\u0018�0ٲ��sK���}�\r",
      "\u0010@`\u0013� �J��J��ǜʔ�sv��+�\u0003��ʌ��τ7��mw�-/�V�<�&�(�`l��X%͠�\u0006\u001a���\tm���?d��\b\u0010�h�4[�{A��p\u0002\u000e[ݣa\u0018����\u0004\u0011�{�8'\n",
      "�Q�:��b�}�o \u000eW�6D��Ҁ��\u001a��\u0011�n��%�by�0\u0012�$�Kw?���{'�D�4t�z-�l��\u0002�mE��/���BR*oT�\u000b",
      "�\u0016W�۸�|(\t�R\u0006\u000b",
      "��7s�&����p|�,����ٲ�\u0006�wC\u001c",
      "���\u0007��J��(I��d=Q�)i�w\u0011����뮭\u0002�\\�1)�h��z:��20����k3S���pg]2\u0014P�\u001fF\\\u0004�.�e�\f",
      "��\u0017}\u001e",
      "�\"G~��\r",
      "Q��\"�z$�D�\u0015S\n",
      "8���rW\u000ee2�&��\f",
      "��L2���=�\u000b",
      "�W,�S�ضfl\u000fT�<�Ϳ�\u0015{P�\u0010\r",
      "�0<�\u000b",
      "tU�\u000e�FprƋ9e\u000f�_��ua��\u0017\u0013�\u0006\u001f��J\u0010\b)\n",
      "���$\u0012�\u0019�s�\u0001Z{d)�;\u001e",
      "\n",
      "...\n"
     ]
    }
   ],
   "source": [
    "cipherText = fromBase64(txt)\n",
    "print cipherText[0:500] + \"\\n...\""
   ]
  },
  {
   "cell_type": "code",
   "execution_count": 12,
   "metadata": {
    "collapsed": false
   },
   "outputs": [
    {
     "name": "stdout",
     "output_type": "stream",
     "text": [
      "I'm back and I'm ringin' the bell \n",
      "A rockin' on the mike while the fly girls yell \n",
      "In ecstasy in the back of me \n",
      "Well that's my DJ Deshay cuttin' all them Z's \n",
      "Hittin' hard and the girlies goin' crazy\n",
      "...\n"
     ]
    }
   ],
   "source": [
    "# plainText = cipher.decrypt(bytes(byteArr))\n",
    "plainText = cipher.decrypt(bytes(cipherText))\n",
    "print plainText[0:200] + \"\\n...\""
   ]
  },
  {
   "cell_type": "markdown",
   "metadata": {},
   "source": [
    "##1.8 Detect AES in ECB mode\n",
    "In [this file](/files/challenge8.txt) are a bunch of hex-encoded ciphertexts."
   ]
  },
  {
   "cell_type": "code",
   "execution_count": 13,
   "metadata": {
    "collapsed": false
   },
   "outputs": [
    {
     "name": "stdout",
     "output_type": "stream",
     "text": [
      "8a10247f90d0a05538888ad6205882196f5f6d05c21ec8dca0cb0be02c3f8b09e382963f443aa514daa501257b09a36bf8c4c392d8ca1bf4395f0d5f2542148c7e5ff22237969874bf66cb85357ef99956accf13ba1af36ca7a91a50533c4d89b7353f908c5a166774293b0bf6247391df69c87dacc4125a99ec417221b58170e633381e3847c6b1c28dda2913c011e13fc4406f8fe73bbf78e803e1d995ce4d\n",
      "bd20aad820c9e387ea57408566e5844c1e470e9d6fbbdba3a6b4df1dd85bce2208f1944f1827d015df9c46c22803f41d1052acb721977f0ccc13db95c970252091ea5e36e423ee6a2f2d12ef909fcadd42529885d221af1225e32161b85e6dc03465cf398c937846b18bac05e88820a567caac113762753dffbe6ece09823bab5aee947a682bb3156f42df1d8dc320a897ee79981cf937390b4ae93eb8657f6c\n",
      "ed9eccbe79394ca0575a81d1fa51443aa3e83e5e3cdb7a4c5897faa6b4ac123c1dde2dff4d7c5b77d2aa3c090cebce70340e7f0e0b754ca26b9c108ca0dbfdcd8aa230eb9420654b252ffc118e830179cc12b64b2819f81edcc2543d759c422c3850051d543c9bc1dcda7c2a6c9896e1161d61c3c13c80ee79c08379abf3e189f2ecf5f997db17db69467bf6dfd485522d084d6e00a329526848bb85414a7e6a\n",
      "4c0a7faa755a8b877860d60f62e4a85e7319b39628d509211a00026d4d278dd7746c6feb6bf232d38298a321e48f8172eadb7782e188e1342bf088814329608ae756700d7786ab99602e83ab084407e05c349a0d72ee7662005784694d98fdf1d2e08efce71d14d940e7c4105d3fa5095454fe478401ba38f98a4eebd38477c613972c86f08e69f9e82e1ac09e67d81238271bb492da526bb1897bd330fe7b75\n",
      "dd6a92b0659968f01d7b638960d747f7f0a0b20460de239b8f16d5a95936d1a4d9f4d3c77f5b14942d91304ce572dab54c8e4c01cab0df8d7653f0ef9fd486191a0ead2f1cfa71b30d7653322fde828b83f4ffafd2060727acf2c0d4062ed24fc9608bae7ab851cce4fde56d4ad593ed775ce856d7299e17d5f88325dddf7e268534710d3510ed24093d217f199afdb650581ac7962d0e281469e040beae01e1\n",
      "\n",
      "...\n"
     ]
    }
   ],
   "source": [
    "with open(\"challenge8.txt\") as file:\n",
    "    lines = file.readlines()\n",
    "print ''.join(lines[0:5]) + \"\\n...\""
   ]
  },
  {
   "cell_type": "markdown",
   "metadata": {},
   "source": [
    "One of them has been encrypted with ECB.\n",
    "\n",
    "\n",
    "Detect it.\n",
    "\n",
    "Remember that the problem with ECB is that it is stateless and deterministic; the same 16 byte plaintext block will always produce the same 16 byte ciphertext."
   ]
  },
  {
   "cell_type": "code",
   "execution_count": 14,
   "metadata": {
    "collapsed": false
   },
   "outputs": [
    {
     "name": "stdout",
     "output_type": "stream",
     "text": [
      "132\n",
      "d880619740a8a19b7840a8a31c810a3d08649af70dc06f4fd5d2d69c744cd283e2dd052f6b641dbf9d11b0348542bb5708649af70dc06f4fd5d2d69c744cd2839475c9dfdbc1d46597949d9c7e82bf5a08649af70dc06f4fd5d2d69c744cd28397a93eab8d6aecd566489154789a6b0308649af70dc06f4fd5d2d69c744cd283d403180c98c8f6db1f2a3f9c4040deb0ab51b29933f2c123c58386b06fba186a\n",
      "[('d5d2d69c744cd283', 4), ('08649af70dc06f4f', 4), ('9d11b0348542bb57', 1), ('ab51b29933f2c123', 1), ('d880619740a8a19b', 1), ('97a93eab8d6aecd5', 1), ('1f2a3f9c4040deb0', 1), ('66489154789a6b03', 1), ('c58386b06fba186a', 1), ('97949d9c7e82bf5a', 1), ('e2dd052f6b641dbf', 1), ('d403180c98c8f6db', 1), ('9475c9dfdbc1d465', 1), ('7840a8a31c810a3d', 1)]\n"
     ]
    }
   ],
   "source": [
    "from collections import Counter\n",
    "\n",
    "for lineNum, line in enumerate(lines):\n",
    "    cipher = line.strip()\n",
    "    blocks = Counter([cipher[i:i+16] for i in range(0,len(cipher),16)])\n",
    "    hist = sorted(blocks.items(), key=lambda x:x[1],reverse=True)\n",
    "    \n",
    "    if hist[0][1]>1:\n",
    "        print lineNum\n",
    "        print cipher\n",
    "        print hist"
   ]
  },
  {
   "cell_type": "code",
   "execution_count": null,
   "metadata": {
    "collapsed": true
   },
   "outputs": [],
   "source": []
  }
 ],
 "metadata": {
  "kernelspec": {
   "display_name": "Python 2",
   "language": "python",
   "name": "python2"
  },
  "language_info": {
   "codemirror_mode": {
    "name": "ipython",
    "version": 2
   },
   "file_extension": ".py",
   "mimetype": "text/x-python",
   "name": "python",
   "nbconvert_exporter": "python",
   "pygments_lexer": "ipython2",
   "version": "2.7.10"
  }
 },
 "nbformat": 4,
 "nbformat_minor": 0
}
