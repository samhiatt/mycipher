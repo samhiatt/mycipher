{
 "cells": [
  {
   "cell_type": "markdown",
   "metadata": {},
   "source": [
    "# MySQL AES_ENCRYPT / AES_DECRYPT\n",
    "#### A python implementation of MySQL's AES_ENCRYPT/AES_DECRYPT functions with built-in MD5 key hashing\n",
    "\n",
    "### Background\n",
    "MySQL uses AES-128 encryption in ECB mode which allows SELECTing by encrypted values since no salt is used in this mode. Additionally, MySQL uses a particular algorithm to hash the given key before encrypting/decrypting. See http://www.maykinmedia.nl/blog/2012/nov/15/mysql-aes_encrypt-python/  \n",
    "\n",
    "The MyCipher class below reproduces the functionality of the SQL AES encryption functions and includes built-in MD5 key hashing in order to mirror the recommended usage, as in the following SQL queries:\n",
    "```sql\n",
    "SELECT AES_ENCRYPT('secret value', MD5('encryption key') );\n",
    "SELECT AES_DECRYPT(<ciphertext>, MD5('encryption key') );\n",
    "```\n",
    "Using MyCipher:\n",
    "```python\n",
    "MyCipher('encryption key').encrypt()\n",
    "MyCipher('encryption key').decrypt(<ciphertext>)\n",
    "```\n",
    "\n",
    "##### note\n",
    "Since ECB mode doesn't use IVs, it is important to salt the keys passed to MyCipher's constructor using a salt that will be know during lookup. e.g. A user ID could be prepended to the encryption key to ensure that each key is unique."
   ]
  },
  {
   "cell_type": "code",
   "execution_count": 1,
   "metadata": {
    "collapsed": false
   },
   "outputs": [],
   "source": [
    "from Crypto.Cipher import AES\n",
    "from Crypto.Hash import MD5\n",
    "from binascii import hexlify, unhexlify\n",
    "\n",
    "class MyCipher:\n",
    "    def _setKey(self,key):\n",
    "        key = MD5.new(key).hexdigest() # Hash key first\n",
    "        # See http://www.maykinmedia.nl/blog/2012/nov/15/mysql-aes_encrypt-python/\n",
    "        final_key = bytearray(16) # Start with 16-byte block of null characters.\n",
    "        for i, c in enumerate(key): # Iterate over all characters in our key.\n",
    "            final_key[i%16] ^= ord(c) # XOR the characters together.\n",
    "        self.key = bytes(final_key) # Returns the resulting byte string.\n",
    "        return self.key\n",
    "\n",
    "    def _pad(self,s):\n",
    "        pad_value = 16 - (len(s) % 16)\n",
    "        return '%s%s' % (s, chr(pad_value)*pad_value)\n",
    "    \n",
    "    def _unpad(self,s):\n",
    "        return s[:-ord(s[len(s)-1:])]\n",
    "    \n",
    "    def __init__(self,key):\n",
    "        self._setKey(key)\n",
    "        self.cipher=AES.new(self.key, AES.MODE_ECB)\n",
    "        \n",
    "    def encrypt(self,plaintext):\n",
    "        return hexlify(self.cipher.encrypt(self._pad(plaintext)))\n",
    "    \n",
    "    def decrypt(self,ciphertext):\n",
    "        return self._unpad(self.cipher.decrypt(unhexlify(ciphertext)))\n",
    "    \n",
    "    def getKey(self):\n",
    "        return hexlify(self.key)\n",
    "        "
   ]
  },
  {
   "cell_type": "markdown",
   "metadata": {},
   "source": [
    "### Example usage"
   ]
  },
  {
   "cell_type": "code",
   "execution_count": 2,
   "metadata": {
    "collapsed": false
   },
   "outputs": [
    {
     "name": "stdout",
     "output_type": "stream",
     "text": [
      "encryption key: 5d5b0005030f0108500a01540c570705\n",
      "cipher as hex: 961d72fbde896818a97d6810c449fb90\n",
      "cipher bytestring: �\u001d",
      "r�މh\u0018�}h\u0010�I��\n",
      "decrypted: foo\n"
     ]
    }
   ],
   "source": [
    "c = MyCipher('D476D59919BC')\n",
    "\n",
    "print \"encryption key: \" + c.getKey()\n",
    "print \"cipher as hex: \" + c.encrypt('foo')\n",
    "encrypted = c.encrypt('foo')\n",
    "print \"cipher bytestring: \" + unhexlify(encrypted)\n",
    "print \"decrypted: \"+ c.decrypt(encrypted)"
   ]
  },
  {
   "cell_type": "markdown",
   "metadata": {},
   "source": [
    "## Verify encrypt/decrypt\n",
    "### With MySQL:\n",
    "```mysql\n",
    "select aes_encrypt('foo', MD5('D476D59919BC')),\n",
    "               hex(aes_encrypt('foo', MD5('D476D59919BC')));\n",
    "\n",
    "+----------------------------------------+---------------------------------------------+\n",
    "| aes_encrypt('foo',MD5('D476D59919BC')) | hex(aes_encrypt('foo',MD5('D476D59919BC'))) |\n",
    "+----------------------------------------+---------------------------------------------+\n",
    "| �r�މh�}h�I�                         | 961D72FBDE896818A97D6810C449FB90           |\n",
    "+----------------------------------------+---------------------------------------------+```\n",
    "\n",
    "```mysql\n",
    "select aes_decrypt(X'961D72FBDE896818A97D6810C449FB90',MD5('D476D59919BC'));\n",
    "\n",
    "+----------------------------------------------------------------------+\n",
    "| aes_decrypt(X'961D72FBDE896818A97D6810C449FB90',MD5('D476D59919BC')) |\n",
    "+----------------------------------------------------------------------+\n",
    "| foo                                                                  |\n",
    "+----------------------------------------------------------------------+```\n",
    "\n",
    "### With openssl bash command:\n",
    "See https://www.openssl.org/docs/manmaster/apps/enc.html\n",
    "##### Encryption\n",
    "```bash\n",
    "echo -n \"foo\" | openssl aes-128-ecb -K 5d5b0005030f0108500a01540c570705\n",
    "```\n",
    "    �r�މh�}h�I�\n",
    "Pipe that result to xxd to see hex-encoded cipher text.\n",
    "\n",
    "```bash\n",
    "echo -n \"foo\" | openssl aes-128-ecb -K 5d5b0005030f0108500a01540c570705 | xxd  -p\n",
    "```\n",
    "    961d72fbde896818a97d6810c449fb90\n",
    "\n",
    "##### Decryption\n",
    "To decode hex string, use:\n",
    "```bash\n",
    "echo -n 961D72FBDE896818A97D6810C449FB90 | xxd -r -p\n",
    "```\n",
    "    �r�މh�}h�I�\n",
    "\n",
    "That can be piped to openssl:\n",
    "```bash\n",
    "echo -n 961D72FBDE896818A97D6810C449FB90 | xxd -r -p | openssl aes-128-ecb -d -K 5d5b0005030f0108500a01540c570705 \n",
    "```\n",
    "    foo"
   ]
  }
 ],
 "metadata": {
  "kernelspec": {
   "display_name": "Python 2",
   "language": "python",
   "name": "python2"
  },
  "language_info": {
   "codemirror_mode": {
    "name": "ipython",
    "version": 2
   },
   "file_extension": ".py",
   "mimetype": "text/x-python",
   "name": "python",
   "nbconvert_exporter": "python",
   "pygments_lexer": "ipython2",
   "version": "2.7.10"
  }
 },
 "nbformat": 4,
 "nbformat_minor": 0
}
